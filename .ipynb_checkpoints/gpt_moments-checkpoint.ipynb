{
 "cells": [
  {
   "cell_type": "code",
   "execution_count": 1,
   "id": "5ce424a9-568d-46e7-86fe-c569b6526b13",
   "metadata": {},
   "outputs": [
    {
     "name": "stdout",
     "output_type": "stream",
     "text": [
      "Jupyter environment detected. Enabling Open3D WebVisualizer.\n",
      "[Open3D INFO] WebRTC GUI backend enabled.\n",
      "[Open3D INFO] WebRTCWindowSystem: HTTP handshake server disabled.\n"
     ]
    }
   ],
   "source": [
    "import torch\n",
    "import torch.nn as nn\n",
    "import torch.optim as optim\n",
    "import torch.nn.functional as F\n",
    "from torch.utils.data import DataLoader\n",
    "\n",
    "from tqdm import tqdm\n",
    "import numpy as np\n",
    "import math\n",
    "import matplotlib.pyplot as plt\n",
    "from itertools import combinations_with_replacement\n",
    "from numpy.linalg import qr, norm\n",
    "import open3d as o3d\n",
    "import datetime\n",
    "from utils import Logger, mkdir_p, progress_bar, save_model, save_args, cal_loss\n",
    "from collections import defaultdict\n",
    "\n",
    "import sklearn.metrics as metrics\n",
    "from data import ModelNet40\n",
    "from torch.optim.lr_scheduler import CosineAnnealingLR\n",
    "import sklearn.metrics as metrics\n",
    "import numpy as np"
   ]
  },
  {
   "cell_type": "code",
   "execution_count": 2,
   "id": "82c6152c-949a-4110-b4d3-f0a7fe640055",
   "metadata": {},
   "outputs": [],
   "source": [
    "from itertools import combinations_with_replacement\n",
    "\n",
    "def generate_exponents(d, degree):\n",
    "    \"\"\"\n",
    "    Generate all multi-indices with total degree up to 'degree' for d-dimensional points.\n",
    "    \n",
    "    Parameters:\n",
    "        d (int): The dimension of the points.\n",
    "        degree (int): The maximum degree of the monomials.\n",
    "    \n",
    "    Returns:\n",
    "        ndarray: The multi-indices of shape (num_poly, d).\n",
    "    \"\"\"\n",
    "    num_poly = math.comb(degree + d, d)\n",
    "    exponents = torch.zeros(num_poly, d, dtype=int)\n",
    "    i = 0\n",
    "    for total_degree in range(degree + 1):\n",
    "        for exps in combinations_with_replacement(range(d), total_degree):\n",
    "            for var in exps:\n",
    "                exponents[i, var] += 1\n",
    "            i += 1\n",
    "            \n",
    "    return exponents[1:]\n",
    "\n",
    "def generate_chebyshev_polynomials_sequence_batch(X, exponents):\n",
    "    \"\"\"\n",
    "    Generate Chebyshev polynomials given a point cloud and multi-indices.\n",
    "\n",
    "    Parameters:\n",
    "        X (ndarray): An array of shape (B, N, d) representing the d-dimensional point cloud.\n",
    "        exponents (ndarray): The multi-indices of shape (M, d).\n",
    "\n",
    "    Returns:\n",
    "        ndarray: Chebyshev polynomial sequences of shape (B, M).\n",
    "    \"\"\"\n",
    "    B, N, d = X.shape\n",
    "    device = X.device\n",
    "    exponents = exponents.to(device)\n",
    "    cheby_polynomials = torch.cos(exponents.unsqueeze(0).unsqueeze(0) * torch.acos(X).unsqueeze(2)) # (B, N, M)\n",
    "    cheby_polynomials = cheby_polynomials.prod(dim=-1) # (B, N)\n",
    "    \n",
    "    return cheby_polynomials.sum(dim=1) / N # (B, N, M) -> (B, M)\n",
    "\n",
    "def poly_seq_batch(X, exponents, poly_type='chebyshev'):\n",
    "    if poly_type == 'chebyshev':\n",
    "        return generate_chebyshev_polynomials_sequence_batch(X, exponents)\n",
    "    else:\n",
    "        raise ValueError('Unknown polynomial type')"
   ]
  },
  {
   "cell_type": "code",
   "execution_count": null,
   "id": "0fd7cc62-42b9-488e-a9c1-a024ae9bc7a8",
   "metadata": {},
   "outputs": [],
   "source": []
  }
 ],
 "metadata": {
  "kernelspec": {
   "display_name": "pytorch3d [~/.conda/envs/pytorch3d/]",
   "language": "python",
   "name": "conda_pytorch3d"
  },
  "language_info": {
   "codemirror_mode": {
    "name": "ipython",
    "version": 3
   },
   "file_extension": ".py",
   "mimetype": "text/x-python",
   "name": "python",
   "nbconvert_exporter": "python",
   "pygments_lexer": "ipython3",
   "version": "3.10.16"
  }
 },
 "nbformat": 4,
 "nbformat_minor": 5
}
